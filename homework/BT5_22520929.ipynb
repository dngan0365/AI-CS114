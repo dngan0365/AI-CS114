{
  "cells": [
    {
      "cell_type": "code",
      "execution_count": 237,
      "metadata": {
        "id": "YczE55EXiYx9",
        "colab": {
          "base_uri": "https://localhost:8080/"
        },
        "outputId": "95f95b1f-a72e-417c-a4be-de3adce05ca7"
      },
      "outputs": [
        {
          "output_type": "stream",
          "name": "stdout",
          "text": [
            "Requirement already satisfied: gymnasium in /usr/local/lib/python3.10/dist-packages (0.29.1)\n",
            "Requirement already satisfied: numpy>=1.21.0 in /usr/local/lib/python3.10/dist-packages (from gymnasium) (1.25.2)\n",
            "Requirement already satisfied: cloudpickle>=1.2.0 in /usr/local/lib/python3.10/dist-packages (from gymnasium) (2.2.1)\n",
            "Requirement already satisfied: typing-extensions>=4.3.0 in /usr/local/lib/python3.10/dist-packages (from gymnasium) (4.11.0)\n",
            "Requirement already satisfied: farama-notifications>=0.0.1 in /usr/local/lib/python3.10/dist-packages (from gymnasium) (0.0.4)\n"
          ]
        }
      ],
      "source": [
        "!pip install gymnasium\n"
      ]
    },
    {
      "cell_type": "code",
      "execution_count": 238,
      "metadata": {
        "id": "yhSyhfEy4XSD"
      },
      "outputs": [],
      "source": [
        "import gymnasium as gym\n",
        "import numpy as np\n",
        "import time\n",
        "from IPython import display"
      ]
    },
    {
      "cell_type": "markdown",
      "source": [
        "#FrozenLake-v1\n",
        "###Không gian hành động\n",
        "\n",
        "\n",
        "*   0: di chuyển sang trái\n",
        "*   1: di chuyến xuống\n",
        "*   2: di chuyển sang phải\n",
        "*   3: di chuyển lên\n",
        "\n",
        "###Không gian trạng thái\n",
        "* Với bản đồ 4x4 có 16 không gian trạng thái\n",
        "* Với bản đồ 8x8 có 64 không gian trạng thái\n",
        "* Không gian trạng thái trong Frozen Lake được tính bằng</br>\n",
        "  **current_row * nrows + current_col**\n",
        "\n",
        "###Phần thưởng\n",
        "\n",
        "\n",
        "*   Khi đến đích: +1\n",
        "*   Khi sang ô băng: +0\n",
        "* Khi đến hố: +0\n",
        "\n",
        "\n",
        "\n",
        "\n",
        "\n"
      ],
      "metadata": {
        "id": "StqzgNfrQ_Cu"
      }
    },
    {
      "cell_type": "code",
      "execution_count": 239,
      "metadata": {
        "id": "kHf1dAVKAcZm"
      },
      "outputs": [],
      "source": [
        "env = gym.make('FrozenLake-v1', render_mode=\"ansi\")"
      ]
    },
    {
      "cell_type": "code",
      "execution_count": 240,
      "metadata": {
        "id": "5-6usoQHAmqh",
        "colab": {
          "base_uri": "https://localhost:8080/"
        },
        "outputId": "e45f1257-e4ce-439d-98c2-68cc643982f0"
      },
      "outputs": [
        {
          "output_type": "execute_result",
          "data": {
            "text/plain": [
              "[(0.3333333333333333, 1, 0.0, False),\n",
              " (0.3333333333333333, 0, 0.0, False),\n",
              " (0.3333333333333333, 0, 0.0, False)]"
            ]
          },
          "metadata": {},
          "execution_count": 240
        }
      ],
      "source": [
        "env.P[0][3] # Transition model\n",
        "#[starting sate][action- 3 means move up]\n",
        "# the result is (probabilities, next state, reward, done)"
      ]
    },
    {
      "cell_type": "code",
      "execution_count": 241,
      "metadata": {
        "id": "wh7Su0h0AqQz",
        "colab": {
          "base_uri": "https://localhost:8080/"
        },
        "outputId": "3e0298d7-daab-41b2-af6f-d7b78a4f909c"
      },
      "outputs": [
        {
          "output_type": "execute_result",
          "data": {
            "text/plain": [
              "16"
            ]
          },
          "metadata": {},
          "execution_count": 241
        }
      ],
      "source": [
        "env.observation_space.n #the number of possible states in the environment\n",
        "#The observation is a value representing the player’s current position as current_row * nrows + current_col"
      ]
    },
    {
      "cell_type": "code",
      "execution_count": 242,
      "metadata": {
        "id": "qZ68w5bpBScC",
        "colab": {
          "base_uri": "https://localhost:8080/"
        },
        "outputId": "b212ea24-f6be-4b95-ec79-94e31fd83ae5"
      },
      "outputs": [
        {
          "output_type": "execute_result",
          "data": {
            "text/plain": [
              "4"
            ]
          },
          "metadata": {},
          "execution_count": 242
        }
      ],
      "source": [
        "env.action_space.n"
      ]
    },
    {
      "cell_type": "code",
      "execution_count": 243,
      "metadata": {
        "id": "VWLnvY7VBvIZ"
      },
      "outputs": [],
      "source": [
        "def play(env, policy, render=False):\n",
        "    state, _ = env.reset()\n",
        "    total_reward = 0\n",
        "    steps = 0\n",
        "    done = False\n",
        "    while not done:\n",
        "        action = policy[state]\n",
        "        next_state, reward, done, info, _ = env.step(action)\n",
        "        total_reward += reward\n",
        "        steps += 1\n",
        "        if render:\n",
        "            print(env.render())\n",
        "            time.sleep(0.5)\n",
        "            if not done:\n",
        "                display.clear_output(wait=True)\n",
        "        state = next_state\n",
        "\n",
        "    return (total_reward, steps)"
      ]
    },
    {
      "cell_type": "code",
      "execution_count": 244,
      "metadata": {
        "id": "fcuDDx6rC5YE",
        "colab": {
          "base_uri": "https://localhost:8080/"
        },
        "outputId": "9b0a5179-6d65-45c6-b271-862cc471e3e3"
      },
      "outputs": [
        {
          "output_type": "execute_result",
          "data": {
            "text/plain": [
              "(0.0, 11)"
            ]
          },
          "metadata": {},
          "execution_count": 244
        }
      ],
      "source": [
        "policy_0 = np.asarray([0, 0, 0, 0, 0, 0, 0, 0, 0, 0, 0, 0, 0, 0, 0, 0])\n",
        "play(env, policy_0)\n",
        "#(reward,the number of steps)"
      ]
    },
    {
      "cell_type": "code",
      "execution_count": 245,
      "metadata": {
        "id": "BJ1CJNPhDGPA",
        "colab": {
          "base_uri": "https://localhost:8080/"
        },
        "outputId": "5c10442d-cd11-491e-a870-f7c8fa8e0853"
      },
      "outputs": [
        {
          "output_type": "stream",
          "name": "stdout",
          "text": [
            "  (Left)\n",
            "SFFF\n",
            "FHFH\n",
            "FFFH\n",
            "\u001b[41mH\u001b[0mFFG\n",
            "\n"
          ]
        },
        {
          "output_type": "execute_result",
          "data": {
            "text/plain": [
              "(0.0, 12)"
            ]
          },
          "metadata": {},
          "execution_count": 245
        }
      ],
      "source": [
        "\n",
        "policy_0 = np.asarray([0, 0, 0, 0, 0, 0, 0, 0, 0, 0, 0, 0, 0, 0, 0, 0])\n",
        "play(env, policy_0, True)\n"
      ]
    },
    {
      "cell_type": "code",
      "execution_count": 246,
      "metadata": {
        "id": "tdyjjtGZC9NX",
        "colab": {
          "base_uri": "https://localhost:8080/"
        },
        "outputId": "dfea249a-a1ba-4c3e-f12b-2a05545aa3b0"
      },
      "outputs": [
        {
          "output_type": "stream",
          "name": "stdout",
          "text": [
            "  (Up)\n",
            "SFFF\n",
            "FHFH\n",
            "FFFH\n",
            "\u001b[41mH\u001b[0mFFG\n",
            "\n"
          ]
        },
        {
          "output_type": "execute_result",
          "data": {
            "text/plain": [
              "(0.0, 14)"
            ]
          },
          "metadata": {},
          "execution_count": 246
        }
      ],
      "source": [
        "policy_1 = np.asarray([0, 1, 1, 3, 1, 0, 2, 0, 1, 1, 2, 2, 3, 3, 1, 0])\n",
        "play(env, policy_1, True)"
      ]
    },
    {
      "cell_type": "code",
      "execution_count": 247,
      "metadata": {
        "id": "tt0VhyMuDasc",
        "colab": {
          "base_uri": "https://localhost:8080/"
        },
        "outputId": "19093c54-8d7c-43fa-b2c8-983a91909a45"
      },
      "outputs": [
        {
          "output_type": "stream",
          "name": "stdout",
          "text": [
            "  (Down)\n",
            "SFFF\n",
            "FHFH\n",
            "FFFH\n",
            "\u001b[41mH\u001b[0mFFG\n",
            "\n"
          ]
        },
        {
          "output_type": "execute_result",
          "data": {
            "text/plain": [
              "(0.0, 5)"
            ]
          },
          "metadata": {},
          "execution_count": 247
        }
      ],
      "source": [
        "policy_2 = np.array([1, 1, 1, 3, 0, 1, 2, 3, 1, 1, 2, 3, 2, 2, 1, 3])\n",
        "play(env, policy_2, True)"
      ]
    },
    {
      "cell_type": "code",
      "execution_count": 248,
      "metadata": {
        "id": "Hp6qhRFJDxWR",
        "colab": {
          "base_uri": "https://localhost:8080/"
        },
        "outputId": "25c2b070-5800-4e76-be80-8e0b62414b29"
      },
      "outputs": [
        {
          "output_type": "stream",
          "name": "stdout",
          "text": [
            "  (Down)\n",
            "SFFF\n",
            "FHFH\n",
            "FFFH\n",
            "HFF\u001b[41mG\u001b[0m\n",
            "\n"
          ]
        },
        {
          "output_type": "execute_result",
          "data": {
            "text/plain": [
              "(1.0, 30)"
            ]
          },
          "metadata": {},
          "execution_count": 248
        }
      ],
      "source": [
        "policy_3 = np.array([0, 3, 0, 3, 0, 0, 0, 0, 3, 1, 0, 0, 0, 2, 1, 0])\n",
        "play(env, policy_3, True)"
      ]
    },
    {
      "cell_type": "code",
      "execution_count": 249,
      "metadata": {
        "id": "JU8Q1qMxD6Po"
      },
      "outputs": [],
      "source": [
        "def play_multiple_times(env, policy, max_episodes):\n",
        "    success = 0\n",
        "    list_of_steps = []\n",
        "    for i in range(max_episodes):\n",
        "        total_reward, steps = play(env, policy)\n",
        "\n",
        "        if total_reward > 0:\n",
        "            success += 1\n",
        "            list_of_steps.append(steps)\n",
        "\n",
        "    print(f'Number of successes: {success}/{max_episodes}')\n",
        "    print(f'Average number of steps: {np.mean(list_of_steps)}')"
      ]
    },
    {
      "cell_type": "code",
      "execution_count": 250,
      "metadata": {
        "id": "G427z17PEmjQ",
        "colab": {
          "base_uri": "https://localhost:8080/"
        },
        "outputId": "07c2d135-0673-45b8-f621-c27cb789e380"
      },
      "outputs": [
        {
          "output_type": "stream",
          "name": "stdout",
          "text": [
            "Number of successes: 0/1000\n",
            "Average number of steps: nan\n"
          ]
        }
      ],
      "source": [
        "policy_0 = np.asarray([0, 0, 0, 0, 0, 0, 0, 0, 0, 0, 0, 0, 0, 0, 0, 0])\n",
        "play_multiple_times(env, policy_0, 1000)\n",
        "#Với policy_0 (luôn đi sang trái) thì không có ván nào thắng"
      ]
    },
    {
      "cell_type": "code",
      "execution_count": 251,
      "metadata": {
        "id": "H1bkhaFdDmj_",
        "colab": {
          "base_uri": "https://localhost:8080/"
        },
        "outputId": "49075a4a-ea65-4dbc-aa6e-f0ea2ce6fbea"
      },
      "outputs": [
        {
          "output_type": "stream",
          "name": "stdout",
          "text": [
            "Number of successes: 58/1000\n",
            "Average number of steps: 12.241379310344827\n"
          ]
        }
      ],
      "source": [
        "policy_1 = np.asarray([0, 1, 1, 3, 1, 0, 2, 0, 1, 1, 2, 2, 3, 3, 1, 0])\n",
        "play_multiple_times(env, policy_1, 1000)\n",
        "#policy_1 có thêm khoảng 70 ván thắng trên 1000 ván chơi"
      ]
    },
    {
      "cell_type": "code",
      "execution_count": 252,
      "metadata": {
        "id": "2ZYhsb_VEtuR",
        "colab": {
          "base_uri": "https://localhost:8080/"
        },
        "outputId": "f6d5dae8-a912-4939-9e61-4d4fac1dce8c"
      },
      "outputs": [
        {
          "output_type": "stream",
          "name": "stdout",
          "text": [
            "Number of successes: 95/1000\n",
            "Average number of steps: 15.621052631578948\n"
          ]
        }
      ],
      "source": [
        "policy_2 = np.array([1, 1, 1, 3, 0, 1, 2, 3, 1, 1, 2, 3, 2, 2, 1, 3])\n",
        "play_multiple_times(env, policy_2, 1000)\n",
        "#policy_2 tốt hơn policy_1 có khoảng 100 ván tháng trên 1000"
      ]
    },
    {
      "cell_type": "code",
      "execution_count": 253,
      "metadata": {
        "id": "OvvHdMesEzTH",
        "colab": {
          "base_uri": "https://localhost:8080/"
        },
        "outputId": "fac63f46-9160-465f-ccf2-19e0e113014d"
      },
      "outputs": [
        {
          "output_type": "stream",
          "name": "stdout",
          "text": [
            "Number of successes: 781/1000\n",
            "Average number of steps: 41.34571062740077\n"
          ]
        }
      ],
      "source": [
        "policy_3 = np.array([0, 3, 0, 3, 0, 0, 0, 0, 3, 1, 0, 0, 0, 2, 1, 0])\n",
        "play_multiple_times(env, policy_3, 1000)\n",
        "#policy_3 tốt hơn hẳn các policy khác và thắng được gần 80% ván chơi"
      ]
    },
    {
      "cell_type": "code",
      "execution_count": 254,
      "metadata": {
        "id": "bSomNpxJE5lP"
      },
      "outputs": [],
      "source": [
        "def policy_evaluation(env, policy, max_iters=500, gamma=0.9):\n",
        "    # Initialize the values of all states to be 0\n",
        "    v_values = np.zeros(env.observation_space.n)\n",
        "\n",
        "    for i in range(max_iters):\n",
        "        prev_v_values = np.copy(v_values)\n",
        "\n",
        "        # Update the value of each state\n",
        "        for state in range(env.observation_space.n):\n",
        "            action = policy[state]\n",
        "\n",
        "            # Compute the q-value of the action\n",
        "            q_value = 0\n",
        "            for prob, next_state, reward, done in env.P[state][action]:\n",
        "                q_value += prob * (reward + gamma * prev_v_values[next_state])\n",
        "\n",
        "            v_values[state] = q_value # update v-value\n",
        "\n",
        "        # Check convergence\n",
        "        if np.all(np.isclose(v_values, prev_v_values)):\n",
        "            print(f'Converged at {i}-th iteration.')\n",
        "            break\n",
        "\n",
        "    return v_values"
      ]
    },
    {
      "cell_type": "code",
      "execution_count": 255,
      "metadata": {
        "id": "A7IhqEOgGkQX",
        "colab": {
          "base_uri": "https://localhost:8080/"
        },
        "outputId": "0cc38754-236f-40fd-ba53-1df5612ee6de"
      },
      "outputs": [
        {
          "output_type": "stream",
          "name": "stdout",
          "text": [
            "Converged at 0-th iteration.\n",
            "[0. 0. 0. 0. 0. 0. 0. 0. 0. 0. 0. 0. 0. 0. 0. 0.]\n"
          ]
        }
      ],
      "source": [
        "policy_0 = np.asarray([0, 0, 0, 0, 0, 0, 0, 0, 0, 0, 0, 0, 0, 0, 0, 0])\n",
        "v_values_0 = policy_evaluation(env, policy_0)\n",
        "print(v_values_0)\n",
        "#v_values cho các action của policy_0 đều là 0, điều này cho thấy là giá trị trạng thái khi đi sang trái đều bằng 0, tức không thể tới đích khi ở mỗi trạng thái đều đi sang trái"
      ]
    },
    {
      "cell_type": "code",
      "execution_count": 256,
      "metadata": {
        "id": "zMjJKI3GGrsN",
        "colab": {
          "base_uri": "https://localhost:8080/"
        },
        "outputId": "4a7dd1b7-a9ae-43f5-d8b3-f9f78952558e"
      },
      "outputs": [
        {
          "output_type": "stream",
          "name": "stdout",
          "text": [
            "Converged at 48-th iteration.\n",
            "[0.01904157 0.01519815 0.03161906 0.02371389 0.02538879 0.\n",
            " 0.06648515 0.         0.05924054 0.13822794 0.18999823 0.\n",
            " 0.         0.21152109 0.56684236 0.        ]\n"
          ]
        }
      ],
      "source": [
        "policy_1 = np.asarray([0, 1, 1, 3, 1, 0, 2, 0, 1, 1, 2, 2, 3, 3, 1, 0])\n",
        "v_values_1 = policy_evaluation(env, policy_1)\n",
        "print(v_values_1)\n",
        "#policy_1 ta thấy số liệu đã được phân bố, các điểm gần đích thì có giá trị trạng thái cao, trong khi đó những ô là hố thì có giá trị là 0"
      ]
    },
    {
      "cell_type": "code",
      "execution_count": 257,
      "metadata": {
        "id": "H-26M77nEfcV",
        "colab": {
          "base_uri": "https://localhost:8080/"
        },
        "outputId": "693f3c98-f944-44b0-c922-aa4320ec4fac"
      },
      "outputs": [
        {
          "output_type": "execute_result",
          "data": {
            "text/plain": [
              "True"
            ]
          },
          "metadata": {},
          "execution_count": 257
        }
      ],
      "source": [
        "np.all(v_values_1 >= v_values_0)\n",
        "#mọi giá trị trạng thái ược lượng của policy_1 >= policy_0 => pi_1>=pi_0"
      ]
    },
    {
      "cell_type": "code",
      "execution_count": 258,
      "metadata": {
        "id": "l49O1N8QG0S2",
        "colab": {
          "base_uri": "https://localhost:8080/"
        },
        "outputId": "520d9296-0842-4fa0-eada-d6645b4471f0"
      },
      "outputs": [
        {
          "output_type": "stream",
          "name": "stdout",
          "text": [
            "Converged at 53-th iteration.\n",
            "[0.02889625 0.01951972 0.03616977 0.0271268  0.04790519 0.\n",
            " 0.07391985 0.         0.08288277 0.19339319 0.21022995 0.\n",
            " 0.         0.35153135 0.62684674 0.        ]\n"
          ]
        }
      ],
      "source": [
        "policy_2 = np.array([1, 1, 1, 3, 0, 1, 2, 3, 1, 1, 2, 3, 2, 2, 1, 3])\n",
        "v_values_2 = policy_evaluation(env, policy_2)\n",
        "print(v_values_2)"
      ]
    },
    {
      "cell_type": "code",
      "execution_count": 259,
      "metadata": {
        "id": "22pRvreGE3Yt",
        "colab": {
          "base_uri": "https://localhost:8080/"
        },
        "outputId": "986a42c6-42d9-4159-9910-d882ff31b9d6"
      },
      "outputs": [
        {
          "output_type": "execute_result",
          "data": {
            "text/plain": [
              "True"
            ]
          },
          "metadata": {},
          "execution_count": 259
        }
      ],
      "source": [
        "np.all(v_values_2 >= v_values_1)\n",
        "#mọi giá trị trạng thái ược lượng của policy_2 >= policy_1 => pi_2>=pi_1"
      ]
    },
    {
      "cell_type": "code",
      "execution_count": 260,
      "metadata": {
        "id": "BTYYFq6BEXDd",
        "colab": {
          "base_uri": "https://localhost:8080/"
        },
        "outputId": "9ba97262-7dd0-43dc-bc18-ea65612dd771"
      },
      "outputs": [
        {
          "output_type": "stream",
          "name": "stdout",
          "text": [
            "Converged at 80-th iteration.\n",
            "[0.06888666 0.06141097 0.07440714 0.05580443 0.09185068 0.\n",
            " 0.11220679 0.         0.14543323 0.24749485 0.29961611 0.\n",
            " 0.         0.37993438 0.63901935 0.        ]\n"
          ]
        }
      ],
      "source": [
        "policy_3 = np.array([0, 3, 0, 3, 0, 0, 0, 0, 3, 1, 0, 0, 0, 2, 1, 0])\n",
        "v_values_3 = policy_evaluation(env, policy_3)\n",
        "print(v_values_3)"
      ]
    },
    {
      "cell_type": "code",
      "execution_count": 261,
      "metadata": {
        "id": "zcEfU3NYE7xN",
        "colab": {
          "base_uri": "https://localhost:8080/"
        },
        "outputId": "729b54b6-d84f-465b-d2f1-f65f9ac5a6d1"
      },
      "outputs": [
        {
          "output_type": "execute_result",
          "data": {
            "text/plain": [
              "True"
            ]
          },
          "metadata": {},
          "execution_count": 261
        }
      ],
      "source": [
        "np.all(v_values_3 >= v_values_2)\n",
        "#pi_3>=pi_2"
      ]
    },
    {
      "cell_type": "markdown",
      "source": [
        "##Value Iteration & Policy Extraction\n",
        "Dùng Value Iteration để tính giá trị của mỗi trạng thái khi tuân theo một kế hoạch tối ưu </br>\n",
        "Policy Extraction để tính kế hoạch từ giá trị tối ưu đó"
      ],
      "metadata": {
        "id": "PV_s8K9leFo7"
      }
    },
    {
      "cell_type": "code",
      "execution_count": 262,
      "metadata": {
        "id": "uh4akjMSHJBF"
      },
      "outputs": [],
      "source": [
        "def value_iteration(env, max_iters=500, gamma=0.9):\n",
        "    # initialize\n",
        "    v_values = np.zeros(env.observation_space.n)\n",
        "\n",
        "    for i in range(max_iters):\n",
        "        prev_v_values = np.copy(v_values)\n",
        "\n",
        "        # update the v-value for each state\n",
        "        for state in range(env.observation_space.n):\n",
        "            q_values = []\n",
        "\n",
        "            # compute the q-value for each action that we can perform at the state\n",
        "            for action in range(env.action_space.n):\n",
        "                q_value = 0\n",
        "                # loop through each possible outcome\n",
        "                for prob, next_state, reward, done in env.P[state][action]:\n",
        "                    q_value += prob * (reward + gamma * prev_v_values[next_state])\n",
        "\n",
        "                q_values.append(q_value)\n",
        "\n",
        "            # select the max q-values\n",
        "            best_action = np.argmax(q_values)\n",
        "            v_values[state] = q_values[best_action]\n",
        "\n",
        "        # check convergence\n",
        "        if np.all(np.isclose(v_values, prev_v_values)):\n",
        "            print(f'Converged at {i}-th iteration.')\n",
        "            break\n",
        "\n",
        "    return v_values"
      ]
    },
    {
      "cell_type": "code",
      "execution_count": 263,
      "metadata": {
        "id": "r8xAljw7VuMP",
        "colab": {
          "base_uri": "https://localhost:8080/"
        },
        "outputId": "fbed337c-5e2e-4364-f138-8480384dd0a6"
      },
      "outputs": [
        {
          "output_type": "stream",
          "name": "stdout",
          "text": [
            "Converged at 79-th iteration.\n",
            "0.07459521293640137\n"
          ]
        }
      ],
      "source": [
        "import time\n",
        "start_value_iteration=time.time()\n",
        "optimal_v_values = value_iteration(env, max_iters=500, gamma=0.9)\n",
        "end_value_iteration=time.time()\n",
        "time_value_iteration=end_value_iteration-start_value_iteration\n",
        "print(time_value_iteration)"
      ]
    },
    {
      "cell_type": "code",
      "execution_count": 264,
      "metadata": {
        "id": "i7g9VA3lV2WW",
        "colab": {
          "base_uri": "https://localhost:8080/"
        },
        "outputId": "8337a339-f98c-4895-a762-e175ac5064ce"
      },
      "outputs": [
        {
          "output_type": "execute_result",
          "data": {
            "text/plain": [
              "array([0.06888615, 0.06141054, 0.07440682, 0.05580409, 0.09185022,\n",
              "       0.        , 0.11220663, 0.        , 0.14543286, 0.2474946 ,\n",
              "       0.29961593, 0.        , 0.        , 0.3799342 , 0.63901926,\n",
              "       0.        ])"
            ]
          },
          "metadata": {},
          "execution_count": 264
        }
      ],
      "source": [
        "optimal_v_values"
      ]
    },
    {
      "cell_type": "code",
      "execution_count": 265,
      "metadata": {
        "id": "jb0an7gaV39e"
      },
      "outputs": [],
      "source": [
        "def policy_extraction(env, v_values, gamma=0.9):\n",
        "    # initialize\n",
        "    # Tất cả các chiến lược ở mỗi trạng thái đều bằng 0\n",
        "    policy = np.zeros(env.observation_space.n, dtype=np.int32)\n",
        "\n",
        "    # loop through each state in the environment\n",
        "    for state in range(env.observation_space.n):\n",
        "        q_values = []\n",
        "        # loop through each action\n",
        "        for action in range(env.action_space.n):\n",
        "            q_value = 0\n",
        "            # loop each possible outcome\n",
        "            for prob, next_state, reward, done in env.P[state][action]:\n",
        "                q_value += prob * (reward + gamma * v_values[next_state])\n",
        "\n",
        "            q_values.append(q_value)\n",
        "\n",
        "        # select the best action\n",
        "        best_action = np.argmax(q_values)\n",
        "        policy[state] = best_action\n",
        "\n",
        "    return policy"
      ]
    },
    {
      "cell_type": "markdown",
      "metadata": {
        "id": "Cua2hcHmT6zs"
      },
      "source": [
        "Policy Extraction chọn một chiến lược bất kì, sau đó duyệt hết tất cả trạng thái theo từng hành động. Hành động nào của mỗi trạng thái có q_value lớn nhất thì sẽ chọn hành động đó. </br>\n",
        "Từ đó tạo nên một chiến lược"
      ]
    },
    {
      "cell_type": "code",
      "execution_count": 266,
      "metadata": {
        "id": "7TGCF4G7XErH",
        "colab": {
          "base_uri": "https://localhost:8080/"
        },
        "outputId": "b6cfa467-8bbe-4458-e8be-6eeb294e2281"
      },
      "outputs": [
        {
          "output_type": "stream",
          "name": "stdout",
          "text": [
            "0.0019466876983642578\n"
          ]
        }
      ],
      "source": [
        "start_policy_extraction=time.time()\n",
        "optimal_policy = policy_extraction(env, optimal_v_values, gamma=0.9) # Policy extraction từ value của mỗi trạng thái đã tính được từ value iteration\n",
        "time_policy_extraction=end_policy_extraction-start_policy_extraction\n",
        "print(time_policy_extraction)"
      ]
    },
    {
      "cell_type": "code",
      "execution_count": 267,
      "metadata": {
        "id": "qkHYtfm4qikV",
        "colab": {
          "base_uri": "https://localhost:8080/"
        },
        "outputId": "2fe67877-a09e-4d79-f9ed-c98e7d94a3cc"
      },
      "outputs": [
        {
          "output_type": "execute_result",
          "data": {
            "text/plain": [
              "array([0, 3, 0, 3, 0, 0, 0, 0, 3, 1, 0, 0, 0, 2, 1, 0], dtype=int32)"
            ]
          },
          "metadata": {},
          "execution_count": 267
        }
      ],
      "source": [
        "optimal_policy"
      ]
    },
    {
      "cell_type": "code",
      "execution_count": 268,
      "metadata": {
        "id": "1Ww12Uh5qCUb",
        "colab": {
          "base_uri": "https://localhost:8080/"
        },
        "outputId": "0a59395c-71f7-4cbf-d54b-71d501a187a5"
      },
      "outputs": [
        {
          "output_type": "stream",
          "name": "stdout",
          "text": [
            "  (Down)\n",
            "SFFF\n",
            "FHFH\n",
            "FFFH\n",
            "HFF\u001b[41mG\u001b[0m\n",
            "\n"
          ]
        },
        {
          "output_type": "execute_result",
          "data": {
            "text/plain": [
              "(1.0, 8)"
            ]
          },
          "metadata": {},
          "execution_count": 268
        }
      ],
      "source": [
        "play(env, optimal_policy, True)"
      ]
    },
    {
      "cell_type": "code",
      "execution_count": 269,
      "metadata": {
        "id": "5-m4ZqWZXKqG",
        "colab": {
          "base_uri": "https://localhost:8080/"
        },
        "outputId": "14b009a3-fcab-4645-8396-f0133f8a0bd5"
      },
      "outputs": [
        {
          "output_type": "stream",
          "name": "stdout",
          "text": [
            "Number of successes: 783/1000\n",
            "Average number of steps: 41.17496807151979\n"
          ]
        }
      ],
      "source": [
        "play_multiple_times(env, optimal_policy, 1000)"
      ]
    },
    {
      "cell_type": "markdown",
      "source": [
        "##Policy Iteration\n",
        "Chọn một kế hoạch ngẫu nhiên </br>\n",
        "Tính giá trị của mỗi trạng thái cho mỗi hành động của kế hoạch đó dùng **Policy Evaluation**, từ đó tính kế hoạch mới (policy improvement) dùng **Policy Extraction**.\n",
        "Lặp lại cho đến khi kế hoạch không bị thay đổi.\n"
      ],
      "metadata": {
        "id": "zDMqJ9x6eoY0"
      }
    },
    {
      "cell_type": "code",
      "execution_count": 270,
      "metadata": {
        "id": "YOQ7Hs4DqX2T"
      },
      "outputs": [],
      "source": [
        "def policy_iteration(env, max_iters=500, gamma=0.9):\n",
        "    # initialize\n",
        "    # Tất cả các chiến lược ở mỗi trạng thái đều bằng 0\n",
        "    #policy = np.zeros(env.observation_space.n, dtype=np.int32)\n",
        "    #policy=np.asarray([0, 1, 1, 3, 1, 0, 2, 0, 1, 1, 2, 2, 3, 3, 1, 0])\n",
        "    policy=np.zeros(env.observation_space.n, dtype=np.int32)\n",
        "    for i in range(max_iters):\n",
        "\n",
        "      pre_policy=np.copy(policy)\n",
        "      v_values=policy_evaluation(env, policy, max_iters=500, gamma=0.9)\n",
        "      policy=policy_extraction(env,v_values,gamma=0.9)\n",
        "\n",
        "      if np.all(np.isclose(policy, pre_policy)):\n",
        "            print(f'Converged at {i}-th iteration.')\n",
        "            break\n",
        "    return policy"
      ]
    },
    {
      "cell_type": "code",
      "execution_count": 271,
      "metadata": {
        "collapsed": true,
        "id": "yy_Bzcln6r78",
        "colab": {
          "base_uri": "https://localhost:8080/"
        },
        "outputId": "fc60e88d-0f2c-4d8e-a28f-821c903abdf7"
      },
      "outputs": [
        {
          "output_type": "stream",
          "name": "stdout",
          "text": [
            "Converged at 0-th iteration.\n",
            "Converged at 0-th iteration.\n",
            "Converged at 23-th iteration.\n",
            "Converged at 59-th iteration.\n",
            "Converged at 62-th iteration.\n",
            "Converged at 79-th iteration.\n",
            "Converged at 80-th iteration.\n",
            "Converged at 5-th iteration.\n",
            "0.16670680046081543\n"
          ]
        }
      ],
      "source": [
        "start_policy_iteration=time.time()\n",
        "optimal_policy = policy_iteration(env, max_iters=5000, gamma=0.9)\n",
        "end_policy_iteration=time.time()\n",
        "time_policy_iteration=end_policy_iteration-start_policy_iteration\n",
        "print(time_policy_iteration)"
      ]
    },
    {
      "cell_type": "code",
      "execution_count": 272,
      "metadata": {
        "id": "cHeDqRCp6tLV",
        "colab": {
          "base_uri": "https://localhost:8080/"
        },
        "outputId": "81a8b1bf-38ac-4eb7-a56f-334887b117d3"
      },
      "outputs": [
        {
          "output_type": "execute_result",
          "data": {
            "text/plain": [
              "array([0, 3, 0, 3, 0, 0, 0, 0, 3, 1, 0, 0, 0, 2, 1, 0], dtype=int32)"
            ]
          },
          "metadata": {},
          "execution_count": 272
        }
      ],
      "source": [
        "optimal_policy"
      ]
    },
    {
      "cell_type": "code",
      "execution_count": 273,
      "metadata": {
        "id": "f20fmJ6J6vXJ",
        "colab": {
          "base_uri": "https://localhost:8080/"
        },
        "outputId": "7bd355d8-442a-454f-f9b4-3613d391020e"
      },
      "outputs": [
        {
          "output_type": "stream",
          "name": "stdout",
          "text": [
            "  (Left)\n",
            "SFFF\n",
            "F\u001b[41mH\u001b[0mFH\n",
            "FFFH\n",
            "HFFG\n",
            "\n"
          ]
        },
        {
          "output_type": "execute_result",
          "data": {
            "text/plain": [
              "(0.0, 71)"
            ]
          },
          "metadata": {},
          "execution_count": 273
        }
      ],
      "source": [
        "play(env, optimal_policy, True)"
      ]
    },
    {
      "cell_type": "code",
      "execution_count": 274,
      "metadata": {
        "id": "8CwD_eCB61eh",
        "colab": {
          "base_uri": "https://localhost:8080/"
        },
        "outputId": "f55e6dfa-80e4-4da4-be97-b0da15bcf0b1"
      },
      "outputs": [
        {
          "output_type": "stream",
          "name": "stdout",
          "text": [
            "Number of successes: 772/1000\n",
            "Average number of steps: 41.89248704663213\n"
          ]
        }
      ],
      "source": [
        "play_multiple_times(env, optimal_policy, 1000)"
      ]
    },
    {
      "cell_type": "markdown",
      "source": [
        "###Thống kê thời gian trong 5 lần chạy\n",
        "| Lần | Value Iteration | Policy Iteration |\n",
        "| --- | --- | --- |\n",
        "| 1 | 0.15 | 0.1|\n",
        "| 2 | 0.12 | 0.1|\n",
        "| 3 | 0.14 | 0.09|\n",
        "| 4 | 0.11 | 0.1|\n",
        "| 5 | 0.07 | 0.16|"
      ],
      "metadata": {
        "id": "_Z1HAqOhxP_k"
      }
    },
    {
      "cell_type": "markdown",
      "source": [
        "#FrozenLake8x8-v1"
      ],
      "metadata": {
        "id": "uFnwTzpwR34L"
      }
    },
    {
      "cell_type": "code",
      "execution_count": 275,
      "metadata": {
        "id": "wm3dtmjOEQBh"
      },
      "outputs": [],
      "source": [
        "env = gym.make('FrozenLake8x8-v1', render_mode=\"ansi\")"
      ]
    },
    {
      "cell_type": "markdown",
      "source": [
        "##Value Iteration"
      ],
      "metadata": {
        "id": "GIcYMeqogelc"
      }
    },
    {
      "cell_type": "code",
      "execution_count": 276,
      "metadata": {
        "id": "JhYUL2ivEfyT",
        "colab": {
          "base_uri": "https://localhost:8080/"
        },
        "outputId": "87bd44d3-d2b1-46cf-a737-aa6cfefbe4eb"
      },
      "outputs": [
        {
          "output_type": "stream",
          "name": "stdout",
          "text": [
            "Converged at 117-th iteration.\n",
            "0.7446534633636475\n"
          ]
        }
      ],
      "source": [
        "start_value_iteration=time.time()\n",
        "optimal_v_values = value_iteration(env, max_iters=500, gamma=0.9)\n",
        "end_value_iteration=time.time()\n",
        "time_value_iteration=end_value_iteration-start_value_iteration\n",
        "print(time_value_iteration)"
      ]
    },
    {
      "cell_type": "code",
      "execution_count": 277,
      "metadata": {
        "id": "wJ5MP0OkEf91",
        "colab": {
          "base_uri": "https://localhost:8080/"
        },
        "outputId": "8bbbfc3f-65eb-4408-957a-993abe1158c1"
      },
      "outputs": [
        {
          "output_type": "execute_result",
          "data": {
            "text/plain": [
              "array([0.00641104, 0.00854808, 0.01230044, 0.01778942, 0.02508214,\n",
              "       0.03247089, 0.03957134, 0.04297844, 0.00602405, 0.00764512,\n",
              "       0.01091162, 0.01642654, 0.02605411, 0.03619409, 0.0493547 ,\n",
              "       0.05730461, 0.00509024, 0.0058532 , 0.00677534, 0.        ,\n",
              "       0.02557084, 0.03882139, 0.06763973, 0.08435607, 0.0042256 ,\n",
              "       0.00476954, 0.00581968, 0.0078541 , 0.02036065, 0.        ,\n",
              "       0.09175501, 0.12919111, 0.00318093, 0.00319659, 0.00270488,\n",
              "       0.        , 0.0344439 , 0.06195145, 0.10901921, 0.20969093,\n",
              "       0.00186915, 0.        , 0.        , 0.01085079, 0.03250092,\n",
              "       0.06304172, 0.        , 0.36008773, 0.00118046, 0.        ,\n",
              "       0.00137717, 0.00366839, 0.        , 0.11568671, 0.        ,\n",
              "       0.63051379, 0.00088531, 0.00077462, 0.00092218, 0.        ,\n",
              "       0.13824885, 0.32258065, 0.61443932, 0.        ])"
            ]
          },
          "metadata": {},
          "execution_count": 277
        }
      ],
      "source": [
        "optimal_v_values"
      ]
    },
    {
      "cell_type": "code",
      "source": [
        "start_policy_extraction=time.time()\n",
        "optimal_policy = policy_extraction(env, optimal_v_values, gamma=0.9)\n",
        "end_policy_extraction=time.time()\n",
        "time_policy_extraction=end_policy_extraction-start_policy_extraction\n",
        "print(time_policy_extraction)"
      ],
      "metadata": {
        "colab": {
          "base_uri": "https://localhost:8080/"
        },
        "id": "KKS28szUQoyY",
        "outputId": "07618a36-29da-44ec-9311-2f1d84a08a34"
      },
      "execution_count": 278,
      "outputs": [
        {
          "output_type": "stream",
          "name": "stdout",
          "text": [
            "0.008600711822509766\n"
          ]
        }
      ]
    },
    {
      "cell_type": "code",
      "source": [
        "optimal_policy"
      ],
      "metadata": {
        "colab": {
          "base_uri": "https://localhost:8080/"
        },
        "id": "FymlIZQ-QyOu",
        "outputId": "d760994a-9798-4871-af00-9946a8c5836e"
      },
      "execution_count": 279,
      "outputs": [
        {
          "output_type": "execute_result",
          "data": {
            "text/plain": [
              "array([3, 2, 2, 2, 2, 2, 2, 2, 3, 3, 3, 3, 2, 2, 2, 1, 3, 3, 0, 0, 2, 3,\n",
              "       2, 1, 3, 3, 3, 1, 0, 0, 2, 1, 3, 3, 0, 0, 2, 1, 3, 2, 0, 0, 0, 1,\n",
              "       3, 0, 0, 2, 0, 0, 1, 0, 0, 0, 0, 2, 0, 1, 0, 0, 1, 1, 1, 0],\n",
              "      dtype=int32)"
            ]
          },
          "metadata": {},
          "execution_count": 279
        }
      ]
    },
    {
      "cell_type": "code",
      "source": [
        "play(env, optimal_policy, True)"
      ],
      "metadata": {
        "colab": {
          "base_uri": "https://localhost:8080/"
        },
        "id": "-ZttK3YFQ18x",
        "outputId": "87d995e0-f359-4c8e-efb1-cdab04c8aa88"
      },
      "execution_count": 280,
      "outputs": [
        {
          "output_type": "stream",
          "name": "stdout",
          "text": [
            "  (Right)\n",
            "SFFFFFFF\n",
            "FFFFFFFF\n",
            "FFFHFFFF\n",
            "FFFFFHFF\n",
            "FFFHFFFF\n",
            "FHHFFFHF\n",
            "FHFFHFHF\n",
            "FFFHFFF\u001b[41mG\u001b[0m\n",
            "\n"
          ]
        },
        {
          "output_type": "execute_result",
          "data": {
            "text/plain": [
              "(1.0, 55)"
            ]
          },
          "metadata": {},
          "execution_count": 280
        }
      ]
    },
    {
      "cell_type": "code",
      "source": [
        "play_multiple_times(env, optimal_policy, 1000)"
      ],
      "metadata": {
        "colab": {
          "base_uri": "https://localhost:8080/"
        },
        "id": "KKoGmSf6Q2s7",
        "outputId": "191f886b-ea5e-4f55-8857-83c8fc45fe38"
      },
      "execution_count": 281,
      "outputs": [
        {
          "output_type": "stream",
          "name": "stdout",
          "text": [
            "Number of successes: 751/1000\n",
            "Average number of steps: 76.9254327563249\n"
          ]
        }
      ]
    },
    {
      "cell_type": "markdown",
      "source": [
        "##Policy Iteration"
      ],
      "metadata": {
        "id": "SbVrLEzKglGX"
      }
    },
    {
      "cell_type": "code",
      "execution_count": 282,
      "metadata": {
        "id": "nUE4vHItEgCx",
        "colab": {
          "base_uri": "https://localhost:8080/"
        },
        "outputId": "00ce912e-eafd-4760-aae4-510a9bf88b76"
      },
      "outputs": [
        {
          "output_type": "stream",
          "name": "stdout",
          "text": [
            "Converged at 27-th iteration.\n",
            "Converged at 27-th iteration.\n",
            "Converged at 91-th iteration.\n",
            "Converged at 92-th iteration.\n",
            "Converged at 86-th iteration.\n",
            "Converged at 90-th iteration.\n",
            "Converged at 92-th iteration.\n",
            "Converged at 95-th iteration.\n",
            "Converged at 100-th iteration.\n",
            "Converged at 112-th iteration.\n",
            "Converged at 117-th iteration.\n",
            "Converged at 9-th iteration.\n",
            "0.9904677867889404\n"
          ]
        }
      ],
      "source": [
        "start_policy_iteration=time.time()\n",
        "optimal_policy = policy_iteration(env, max_iters=5000, gamma=0.9)\n",
        "end_policy_iteration=time.time()\n",
        "time_policy_iteration=end_policy_iteration-start_policy_iteration\n",
        "print(time_policy_iteration)"
      ]
    },
    {
      "cell_type": "code",
      "execution_count": 283,
      "metadata": {
        "id": "Qjl9SBddOMkt",
        "colab": {
          "base_uri": "https://localhost:8080/"
        },
        "outputId": "b50ea137-4d70-4460-9698-97432e5e4348"
      },
      "outputs": [
        {
          "output_type": "execute_result",
          "data": {
            "text/plain": [
              "array([3, 2, 2, 2, 2, 2, 2, 2, 3, 3, 3, 3, 2, 2, 2, 1, 3, 3, 0, 0, 2, 3,\n",
              "       2, 1, 3, 3, 3, 1, 0, 0, 2, 1, 3, 3, 0, 0, 2, 1, 3, 2, 0, 0, 0, 1,\n",
              "       3, 0, 0, 2, 0, 0, 1, 0, 0, 0, 0, 2, 0, 1, 0, 0, 1, 1, 1, 0],\n",
              "      dtype=int32)"
            ]
          },
          "metadata": {},
          "execution_count": 283
        }
      ],
      "source": [
        "optimal_policy"
      ]
    },
    {
      "cell_type": "code",
      "execution_count": 284,
      "metadata": {
        "id": "qQetlcO6OUtS",
        "colab": {
          "base_uri": "https://localhost:8080/"
        },
        "outputId": "4161aa51-a08c-41e1-9f05-daa60d6eeba0"
      },
      "outputs": [
        {
          "output_type": "stream",
          "name": "stdout",
          "text": [
            "  (Right)\n",
            "SFFFFFFF\n",
            "FFFFFFFF\n",
            "FFFHFFFF\n",
            "FFFFFHFF\n",
            "FFFHFFFF\n",
            "FHHFFFHF\n",
            "FHFFHFHF\n",
            "FFFHFFF\u001b[41mG\u001b[0m\n",
            "\n"
          ]
        },
        {
          "output_type": "execute_result",
          "data": {
            "text/plain": [
              "(1.0, 26)"
            ]
          },
          "metadata": {},
          "execution_count": 284
        }
      ],
      "source": [
        "play(env, optimal_policy, True)"
      ]
    },
    {
      "cell_type": "code",
      "execution_count": 285,
      "metadata": {
        "id": "1WrEf4bKOZ1R",
        "colab": {
          "base_uri": "https://localhost:8080/"
        },
        "outputId": "c08bc726-aafe-4094-c0d6-181c044e58e0"
      },
      "outputs": [
        {
          "output_type": "stream",
          "name": "stdout",
          "text": [
            "Number of successes: 734/1000\n",
            "Average number of steps: 75.29019073569482\n"
          ]
        }
      ],
      "source": [
        "play_multiple_times(env, optimal_policy, 1000)"
      ]
    },
    {
      "cell_type": "markdown",
      "source": [
        "###Thống kê thời gian trong 5 lần chạy\n",
        "| Lần | Value Iteration | Policy Iteration |\n",
        "| --- | --- | --- |\n",
        "| 1 | 0.62 | 1.63|\n",
        "| 2 | 0.42 | 1|\n",
        "| 3 | 0.75 | 1.01|\n",
        "| 4 | 0.55 | 1.03|\n",
        "| 5 | 0.74 | 0.99|"
      ],
      "metadata": {
        "id": "FApK7z7x0BdH"
      }
    },
    {
      "cell_type": "markdown",
      "source": [
        "#Taxi-v3\n",
        "Xe taxi khởi hành tại một ô vuông ngẫu nhiên và hành khách tại một trong những địa điểm được chỉ định\n",
        "###Không gian hành động\n",
        "* 0: Di chuyển xuống\n",
        "* 1: Di chuyển lên\n",
        "* 2: Di chuyển sang phải\n",
        "* 3: Di chuyển sang trái\n",
        "* 4: Đón khách\n",
        "* 5: Thả khách\n",
        "\n",
        "###Không gian trạng thái\n",
        "Có 500 trạng thái riêng biệt vì có 25 vị trí taxi, 5 vị trí có thể có của hành khách (bao gồm cả trường hợp hành khách ở trong taxi) và 4 vị trí đích.</br>\n",
        "*Vị trí hành khách:*\n",
        "* 0: Red\n",
        "* 1: Green\n",
        "* 2: Yellow\n",
        "* 3: Blue\n",
        "* 4: In taxi\n",
        "\n",
        "*Đích đến*\n",
        "* 0: Red\n",
        "* 1: Green\n",
        "* 2: Yellow\n",
        "* 3: Blue\n",
        "\n",
        "*Công thức tính không gian trạng thái* </br>\n",
        "((taxi_row * 5 + taxi_col) * 5 + passenger_location) * 4 + destination\n",
        "\n",
        "###Phần thưởng\n",
        "* -1 mỗi bước khi phần thưởng khác được kích hoạt.\n",
        "* +20 chở hành khách.\n",
        "* -10 Thực hiện hành vi “đón”, “trả” trái pháp luật.\n",
        "\n",
        "\n"
      ],
      "metadata": {
        "id": "n-I_dQ47R_yX"
      }
    },
    {
      "cell_type": "code",
      "execution_count": 286,
      "metadata": {
        "id": "JzMdKRD1OgWs"
      },
      "outputs": [],
      "source": [
        "env = gym.make('Taxi-v3', render_mode=\"ansi\")"
      ]
    },
    {
      "cell_type": "markdown",
      "source": [
        "##Value Iteration"
      ],
      "metadata": {
        "id": "4goGrMMXgt-f"
      }
    },
    {
      "cell_type": "code",
      "execution_count": 296,
      "metadata": {
        "id": "OPEJf_oEO-J_",
        "colab": {
          "base_uri": "https://localhost:8080/"
        },
        "outputId": "142944b7-a3e4-4b2d-a8b6-96a35a442ea4"
      },
      "outputs": [
        {
          "output_type": "stream",
          "name": "stdout",
          "text": [
            "Converged at 116-th iteration.\n",
            "7.655598878860474\n"
          ]
        }
      ],
      "source": [
        "start_value_iteration=time.time()\n",
        "optimal_v_values = value_iteration(env, max_iters=500, gamma=0.9)\n",
        "end_value_iteration=time.time()\n",
        "time_value_iteration=end_value_iteration-start_value_iteration\n",
        "print(time_value_iteration)"
      ]
    },
    {
      "cell_type": "code",
      "execution_count": 288,
      "metadata": {
        "id": "NztqyCBVPBu7",
        "colab": {
          "base_uri": "https://localhost:8080/"
        },
        "outputId": "3a7e5517-1694-49a4-8a34-920addcb53cf"
      },
      "outputs": [
        {
          "output_type": "execute_result",
          "data": {
            "text/plain": [
              "array([ 89.47323891,  32.81971401,  55.26423891,  37.57755845,\n",
              "         8.43222921,  32.81971401,   8.43222921,  15.28447953,\n",
              "        32.81971401,  18.09386122,  55.26423891,  21.2154998 ,\n",
              "        12.75594298,  18.09386122,  12.75594298,  37.57755845,\n",
              "       100.52591945,  37.57755845,  62.51591945,  42.86394891,\n",
              "        79.52591945,  28.53774704,  48.73781945,  32.81971401,\n",
              "        10.48035311,  37.57755845,  10.48035311,  18.09386122,\n",
              "        28.53774704,  15.28447953,  48.73781945,  18.09386122,\n",
              "        15.28447953,  21.2154998 ,  15.28447953,  42.86394891,\n",
              "        89.47323891,  42.86394891,  55.26423891,  48.73781945,\n",
              "        42.86394891,  12.75594298,  24.68388374,  15.28447953,\n",
              "        24.68388374,  70.57323891,  24.68388374,  37.57755845,\n",
              "        24.68388374,  12.75594298,  42.86394891,  15.28447953,\n",
              "        18.09386122,  24.68388374,  18.09386122,  48.73781945,\n",
              "        48.73781945,  79.52591945,  48.73781945,  55.26423891,\n",
              "        37.57755845,  10.48035311,  21.2154998 ,  12.75594298,\n",
              "        28.53774704,  79.52591945,  28.53774704,  42.86394891,\n",
              "        21.2154998 ,  10.48035311,  37.57755845,  12.75594298,\n",
              "        21.2154998 ,  28.53774704,  21.2154998 ,  55.26423891,\n",
              "        42.86394891,  89.47323891,  42.86394891,  62.51591945,\n",
              "        32.81971401,   8.43222921,  18.09386122,  10.48035311,\n",
              "        32.81971401,  89.47323891,  32.81971401,  48.73781945,\n",
              "        18.09386122,   8.43222921,  32.81971401,  10.48035311,\n",
              "        18.09386122,  24.68388374,  18.09386122,  48.73781945,\n",
              "        37.57755845, 100.52591945,  37.57755845,  55.26423891,\n",
              "        79.52591945,  28.53774704,  48.73781945,  32.81971401,\n",
              "        10.48035311,  37.57755845,  10.48035311,  18.09386122,\n",
              "        37.57755845,  21.2154998 ,  62.51591945,  24.68388374,\n",
              "        15.28447953,  21.2154998 ,  15.28447953,  42.86394891,\n",
              "        89.47323891,  42.86394891,  70.57323891,  48.73781945,\n",
              "        70.57323891,  24.68388374,  42.86394891,  28.53774704,\n",
              "        12.75594298,  42.86394891,  12.75594298,  21.2154998 ,\n",
              "        32.81971401,  18.09386122,  55.26423891,  21.2154998 ,\n",
              "        18.09386122,  24.68388374,  18.09386122,  48.73781945,\n",
              "        79.52591945,  48.73781945,  62.51591945,  55.26423891,\n",
              "        48.73781945,  15.28447953,  28.53774704,  18.09386122,\n",
              "        21.2154998 ,  62.51591945,  21.2154998 ,  32.81971401,\n",
              "        28.53774704,  15.28447953,  48.73781945,  18.09386122,\n",
              "        21.2154998 ,  28.53774704,  21.2154998 ,  55.26423891,\n",
              "        55.26423891,  70.57323891,  55.26423891,  62.51591945,\n",
              "        42.86394891,  12.75594298,  24.68388374,  15.28447953,\n",
              "        24.68388374,  70.57323891,  24.68388374,  37.57755845,\n",
              "        24.68388374,  12.75594298,  42.86394891,  15.28447953,\n",
              "        24.68388374,  32.81971401,  24.68388374,  62.51591945,\n",
              "        48.73781945,  79.52591945,  48.73781945,  70.57323891,\n",
              "        37.57755845,  10.48035311,  21.2154998 ,  12.75594298,\n",
              "        28.53774704,  79.52591945,  28.53774704,  42.86394891,\n",
              "        21.2154998 ,  10.48035311,  37.57755845,  12.75594298,\n",
              "        21.2154998 ,  28.53774704,  21.2154998 ,  55.26423891,\n",
              "        42.86394891,  89.47323891,  42.86394891,  62.51591945,\n",
              "        70.57323891,  24.68388374,  42.86394891,  28.53774704,\n",
              "        12.75594298,  42.86394891,  12.75594298,  21.2154998 ,\n",
              "        42.86394891,  24.68388374,  70.57323891,  28.53774704,\n",
              "        18.09386122,  24.68388374,  18.09386122,  48.73781945,\n",
              "        79.52591945,  48.73781945,  79.52591945,  55.26423891,\n",
              "        62.51591945,  21.2154998 ,  37.57755845,  24.68388374,\n",
              "        15.28447953,  48.73781945,  15.28447953,  24.68388374,\n",
              "        37.57755845,  21.2154998 ,  62.51591945,  24.68388374,\n",
              "        21.2154998 ,  28.53774704,  21.2154998 ,  55.26423891,\n",
              "        70.57323891,  55.26423891,  70.57323891,  62.51591945,\n",
              "        55.26423891,  18.09386122,  32.81971401,  21.2154998 ,\n",
              "        18.09386122,  55.26423891,  18.09386122,  28.53774704,\n",
              "        32.81971401,  18.09386122,  55.26423891,  21.2154998 ,\n",
              "        24.68388374,  32.81971401,  24.68388374,  62.51591945,\n",
              "        62.51591945,  62.51591945,  62.51591945,  70.57323891,\n",
              "        48.73781945,  15.28447953,  28.53774704,  18.09386122,\n",
              "        21.2154998 ,  62.51591945,  21.2154998 ,  32.81971401,\n",
              "        28.53774704,  15.28447953,  48.73781945,  18.09386122,\n",
              "        28.53774704,  37.57755845,  28.53774704,  70.57323891,\n",
              "        55.26423891,  70.57323891,  55.26423891,  79.52591945,\n",
              "        42.86394891,  12.75594298,  24.68388374,  15.28447953,\n",
              "        24.68388374,  70.57323891,  24.68388374,  37.57755845,\n",
              "        24.68388374,  12.75594298,  42.86394891,  15.28447953,\n",
              "        24.68388374,  32.81971401,  24.68388374,  62.51591945,\n",
              "        48.73781945,  79.52591945,  48.73781945,  70.57323891,\n",
              "        62.51591945,  21.2154998 ,  37.57755845,  24.68388374,\n",
              "        10.48035311,  37.57755845,  10.48035311,  18.09386122,\n",
              "        48.73781945,  28.53774704,  79.52591945,  32.81971401,\n",
              "        15.28447953,  21.2154998 ,  15.28447953,  42.86394891,\n",
              "        70.57323891,  42.86394891,  89.47323891,  48.73781945,\n",
              "        55.26423891,  18.09386122,  32.81971401,  21.2154998 ,\n",
              "        12.75594298,  42.86394891,  12.75594298,  21.2154998 ,\n",
              "        32.81971401,  18.09386122,  55.26423891,  21.2154998 ,\n",
              "        18.09386122,  24.68388374,  18.09386122,  48.73781945,\n",
              "        62.51591945,  48.73781945,  62.51591945,  55.26423891,\n",
              "        48.73781945,  15.28447953,  28.53774704,  18.09386122,\n",
              "        15.28447953,  48.73781945,  15.28447953,  24.68388374,\n",
              "        28.53774704,  15.28447953,  48.73781945,  18.09386122,\n",
              "        21.2154998 ,  28.53774704,  21.2154998 ,  55.26423891,\n",
              "        55.26423891,  55.26423891,  55.26423891,  62.51591945,\n",
              "        42.86394891,  12.75594298,  24.68388374,  15.28447953,\n",
              "        18.09386122,  55.26423891,  18.09386122,  28.53774704,\n",
              "        24.68388374,  12.75594298,  42.86394891,  15.28447953,\n",
              "        32.81971401,  42.86394891,  32.81971401,  79.52591945,\n",
              "        48.73781945,  62.51591945,  48.73781945,  89.47323891,\n",
              "        37.57755845,  10.48035311,  21.2154998 ,  12.75594298,\n",
              "        21.2154998 ,  62.51591945,  21.2154998 ,  32.81971401,\n",
              "        21.2154998 ,  10.48035311,  37.57755845,  12.75594298,\n",
              "        28.53774704,  37.57755845,  28.53774704,  70.57323891,\n",
              "        42.86394891,  70.57323891,  42.86394891,  79.52591945,\n",
              "        55.26423891,  18.09386122,  32.81971401,  21.2154998 ,\n",
              "         8.43222921,  32.81971401,   8.43222921,  15.28447953,\n",
              "        55.26423891,  32.81971401,  89.47323891,  37.57755845,\n",
              "        12.75594298,  18.09386122,  12.75594298,  37.57755845,\n",
              "        62.51591945,  37.57755845, 100.52591945,  42.86394891,\n",
              "        48.73781945,  15.28447953,  28.53774704,  18.09386122,\n",
              "        10.48035311,  37.57755845,  10.48035311,  18.09386122,\n",
              "        28.53774704,  15.28447953,  48.73781945,  18.09386122,\n",
              "        15.28447953,  21.2154998 ,  15.28447953,  42.86394891,\n",
              "        55.26423891,  42.86394891,  55.26423891,  48.73781945,\n",
              "        42.86394891,  12.75594298,  24.68388374,  15.28447953,\n",
              "        12.75594298,  42.86394891,  12.75594298,  21.2154998 ,\n",
              "        24.68388374,  12.75594298,  42.86394891,  15.28447953,\n",
              "        18.09386122,  24.68388374,  18.09386122,  48.73781945,\n",
              "        48.73781945,  48.73781945,  48.73781945,  55.26423891,\n",
              "        37.57755845,  10.48035311,  21.2154998 ,  12.75594298,\n",
              "        15.28447953,  48.73781945,  15.28447953,  24.68388374,\n",
              "        21.2154998 ,  10.48035311,  37.57755845,  12.75594298,\n",
              "        37.57755845,  48.73781945,  37.57755845,  89.47323891,\n",
              "        42.86394891,  55.26423891,  42.86394891, 100.52591945,\n",
              "        32.81971401,   8.43222921,  18.09386122,  10.48035311,\n",
              "        18.09386122,  55.26423891,  18.09386122,  28.53774704,\n",
              "        18.09386122,   8.43222921,  32.81971401,  10.48035311,\n",
              "        32.81971401,  42.86394891,  32.81971401,  79.52591945,\n",
              "        37.57755845,  62.51591945,  37.57755845,  89.47323891])"
            ]
          },
          "metadata": {},
          "execution_count": 288
        }
      ],
      "source": [
        "optimal_v_values"
      ]
    },
    {
      "cell_type": "code",
      "source": [
        "start_policy_extraction=time.time()\n",
        "optimal_policy = policy_extraction(env, optimal_v_values, gamma=0.9)\n",
        "end_policy_extraction=time.time()\n",
        "time_policy_extraction=end_policy_extraction-start_policy_extraction\n",
        "print(time_policy_extraction)"
      ],
      "metadata": {
        "colab": {
          "base_uri": "https://localhost:8080/"
        },
        "id": "YMh7kYWddoXC",
        "outputId": "6d520061-572d-46e2-f73a-fbb2717e1331"
      },
      "execution_count": 297,
      "outputs": [
        {
          "output_type": "stream",
          "name": "stdout",
          "text": [
            "0.0588831901550293\n"
          ]
        }
      ]
    },
    {
      "cell_type": "code",
      "source": [
        "optimal_policy"
      ],
      "metadata": {
        "colab": {
          "base_uri": "https://localhost:8080/"
        },
        "id": "6L_znrIFEPln",
        "outputId": "7c439ac1-a0a2-4b9a-9675-c3c9f6f5a923"
      },
      "execution_count": 298,
      "outputs": [
        {
          "output_type": "execute_result",
          "data": {
            "text/plain": [
              "array([4, 4, 4, 4, 0, 0, 0, 0, 0, 0, 0, 0, 0, 0, 0, 0, 5, 0, 0, 0, 3, 3,\n",
              "       3, 3, 0, 0, 0, 0, 0, 0, 0, 0, 0, 0, 0, 0, 3, 0, 0, 0, 0, 0, 0, 0,\n",
              "       2, 2, 2, 2, 0, 0, 0, 0, 0, 0, 0, 0, 0, 2, 0, 0, 0, 0, 0, 0, 2, 2,\n",
              "       2, 2, 0, 0, 0, 0, 0, 0, 0, 0, 0, 2, 0, 0, 0, 0, 0, 0, 4, 4, 4, 4,\n",
              "       0, 0, 0, 0, 0, 0, 0, 0, 0, 5, 0, 0, 1, 1, 1, 1, 0, 0, 0, 0, 0, 0,\n",
              "       0, 0, 0, 0, 0, 0, 1, 0, 0, 0, 1, 1, 1, 1, 0, 0, 0, 0, 0, 0, 0, 0,\n",
              "       0, 0, 0, 0, 1, 0, 0, 0, 0, 0, 0, 0, 1, 1, 1, 1, 0, 0, 0, 0, 0, 0,\n",
              "       0, 0, 0, 1, 0, 0, 0, 0, 0, 0, 1, 1, 1, 1, 0, 0, 0, 0, 0, 0, 0, 0,\n",
              "       0, 1, 0, 0, 0, 0, 0, 0, 1, 1, 1, 1, 0, 0, 0, 0, 0, 0, 0, 0, 0, 1,\n",
              "       0, 0, 1, 1, 1, 1, 2, 2, 2, 2, 0, 0, 0, 0, 2, 2, 2, 2, 1, 2, 0, 2,\n",
              "       1, 1, 1, 1, 2, 2, 2, 2, 3, 3, 3, 3, 2, 2, 2, 2, 1, 2, 3, 2, 3, 3,\n",
              "       3, 3, 1, 1, 1, 1, 3, 3, 3, 3, 2, 2, 2, 2, 3, 1, 3, 2, 3, 3, 3, 3,\n",
              "       1, 1, 1, 1, 3, 3, 3, 3, 0, 0, 0, 0, 3, 1, 3, 0, 3, 3, 3, 3, 1, 1,\n",
              "       1, 1, 3, 3, 3, 3, 0, 0, 0, 0, 3, 1, 3, 0, 1, 1, 1, 1, 1, 1, 1, 1,\n",
              "       0, 0, 0, 0, 1, 1, 1, 1, 1, 1, 0, 1, 1, 1, 1, 1, 1, 1, 1, 1, 1, 1,\n",
              "       1, 1, 1, 1, 1, 1, 1, 1, 1, 1, 1, 1, 1, 1, 1, 1, 1, 1, 1, 1, 1, 1,\n",
              "       1, 1, 1, 1, 1, 1, 1, 1, 1, 1, 1, 1, 1, 1, 1, 1, 1, 1, 1, 1, 0, 0,\n",
              "       0, 0, 1, 1, 1, 0, 1, 1, 1, 1, 1, 1, 1, 1, 1, 1, 1, 1, 0, 0, 0, 0,\n",
              "       1, 1, 1, 0, 1, 1, 1, 1, 1, 1, 1, 1, 4, 4, 4, 4, 1, 1, 1, 1, 1, 1,\n",
              "       5, 1, 1, 1, 1, 1, 1, 1, 1, 1, 1, 1, 1, 1, 1, 1, 1, 1, 1, 1, 1, 1,\n",
              "       1, 1, 1, 1, 1, 1, 1, 1, 1, 1, 1, 1, 1, 1, 1, 1, 1, 1, 1, 1, 1, 1,\n",
              "       1, 1, 1, 1, 1, 1, 1, 1, 1, 1, 4, 4, 4, 4, 1, 1, 1, 5, 1, 1, 1, 1,\n",
              "       1, 1, 1, 1, 1, 1, 1, 1, 3, 3, 3, 3, 1, 1, 1, 3], dtype=int32)"
            ]
          },
          "metadata": {},
          "execution_count": 298
        }
      ]
    },
    {
      "cell_type": "code",
      "source": [
        "optimal_policy_1=optimal_policy"
      ],
      "metadata": {
        "id": "sU89HCQbESUt"
      },
      "execution_count": 299,
      "outputs": []
    },
    {
      "cell_type": "code",
      "source": [
        "play(env, optimal_policy, True)"
      ],
      "metadata": {
        "colab": {
          "base_uri": "https://localhost:8080/"
        },
        "id": "GoXy0FKfdsdc",
        "outputId": "8965dfbb-319b-47f0-e555-48c1ecc055e0"
      },
      "execution_count": 290,
      "outputs": [
        {
          "output_type": "stream",
          "name": "stdout",
          "text": [
            "+---------+\n",
            "|R: | : :\u001b[35m\u001b[34;1m\u001b[43mG\u001b[0m\u001b[0m\u001b[0m|\n",
            "| : | : : |\n",
            "| : : : : |\n",
            "| | : | : |\n",
            "|Y| : |B: |\n",
            "+---------+\n",
            "  (Dropoff)\n",
            "\n"
          ]
        },
        {
          "output_type": "execute_result",
          "data": {
            "text/plain": [
              "(5, 16)"
            ]
          },
          "metadata": {},
          "execution_count": 290
        }
      ]
    },
    {
      "cell_type": "code",
      "source": [
        "play_multiple_times(env, optimal_policy, 1000)"
      ],
      "metadata": {
        "colab": {
          "base_uri": "https://localhost:8080/"
        },
        "id": "yjb5eiHJd9IN",
        "outputId": "117c71d7-eb03-4613-c6b7-9de88a2b62c7"
      },
      "execution_count": 300,
      "outputs": [
        {
          "output_type": "stream",
          "name": "stdout",
          "text": [
            "Number of successes: 1000/1000\n",
            "Average number of steps: 13.128\n"
          ]
        }
      ]
    },
    {
      "cell_type": "markdown",
      "source": [
        "##Policy Iteration"
      ],
      "metadata": {
        "id": "liW8zbBzg-Ll"
      }
    },
    {
      "cell_type": "code",
      "execution_count": 301,
      "metadata": {
        "id": "islNDLBmPGsj",
        "colab": {
          "base_uri": "https://localhost:8080/"
        },
        "outputId": "d6488d70-67bd-4c02-cdfb-40e5d6ac8a23"
      },
      "outputs": [
        {
          "output_type": "stream",
          "name": "stderr",
          "text": [
            "/usr/local/lib/python3.10/dist-packages/gymnasium/core.py:311: UserWarning: \u001b[33mWARN: env.P to get variables from other wrappers is deprecated and will be removed in v1.0, to get this variable you can do `env.unwrapped.P` for environment variables or `env.get_wrapper_attr('P')` that will search the reminding wrappers.\u001b[0m\n",
            "  logger.warn(\n"
          ]
        },
        {
          "output_type": "stream",
          "name": "stdout",
          "text": [
            "Converged at 88-th iteration.\n",
            "Converged at 88-th iteration.\n",
            "Converged at 97-th iteration.\n",
            "Converged at 100-th iteration.\n",
            "Converged at 101-th iteration.\n",
            "Converged at 102-th iteration.\n",
            "Converged at 103-th iteration.\n",
            "Converged at 106-th iteration.\n",
            "Converged at 109-th iteration.\n",
            "Converged at 110-th iteration.\n",
            "Converged at 111-th iteration.\n",
            "Converged at 112-th iteration.\n",
            "Converged at 115-th iteration.\n",
            "Converged at 116-th iteration.\n",
            "Converged at 116-th iteration.\n",
            "Converged at 116-th iteration.\n",
            "Converged at 116-th iteration.\n",
            "Converged at 116-th iteration.\n",
            "Converged at 16-th iteration.\n",
            "18.980047464370728\n"
          ]
        }
      ],
      "source": [
        "start_policy_iteration=time.time()\n",
        "optimal_policy = policy_iteration(env, max_iters=5000, gamma=0.9)\n",
        "end_policy_iteration=time.time()\n",
        "time_policy_iteration=end_policy_iteration-start_policy_iteration\n",
        "print(time_policy_iteration)"
      ]
    },
    {
      "cell_type": "code",
      "execution_count": 302,
      "metadata": {
        "id": "DZwG0uQsPSvg",
        "colab": {
          "base_uri": "https://localhost:8080/"
        },
        "outputId": "4bf98bf4-501e-4476-fb85-5bc7def37688"
      },
      "outputs": [
        {
          "output_type": "execute_result",
          "data": {
            "text/plain": [
              "array([4, 4, 4, 4, 0, 0, 0, 0, 0, 0, 0, 0, 0, 0, 0, 0, 5, 0, 0, 0, 3, 3,\n",
              "       3, 3, 0, 0, 0, 0, 0, 0, 0, 0, 0, 0, 0, 0, 3, 0, 0, 0, 0, 0, 0, 0,\n",
              "       2, 2, 2, 2, 0, 0, 0, 0, 0, 0, 0, 0, 0, 2, 0, 0, 0, 0, 0, 0, 2, 2,\n",
              "       2, 2, 0, 0, 0, 0, 0, 0, 0, 0, 0, 2, 0, 0, 0, 0, 0, 0, 4, 4, 4, 4,\n",
              "       0, 0, 0, 0, 0, 0, 0, 0, 0, 5, 0, 0, 1, 1, 1, 1, 0, 0, 0, 0, 0, 0,\n",
              "       0, 0, 0, 0, 0, 0, 1, 0, 0, 0, 1, 1, 1, 1, 0, 0, 0, 0, 0, 0, 0, 0,\n",
              "       0, 0, 0, 0, 1, 0, 0, 0, 0, 0, 0, 0, 1, 1, 1, 1, 0, 0, 0, 0, 0, 0,\n",
              "       0, 0, 0, 1, 0, 0, 0, 0, 0, 0, 1, 1, 1, 1, 0, 0, 0, 0, 0, 0, 0, 0,\n",
              "       0, 1, 0, 0, 0, 0, 0, 0, 1, 1, 1, 1, 0, 0, 0, 0, 0, 0, 0, 0, 0, 1,\n",
              "       0, 0, 1, 1, 1, 1, 2, 2, 2, 2, 0, 0, 0, 0, 2, 2, 2, 2, 1, 2, 0, 2,\n",
              "       1, 1, 1, 1, 2, 2, 2, 2, 3, 3, 3, 3, 2, 2, 2, 2, 1, 2, 3, 2, 3, 3,\n",
              "       3, 3, 1, 1, 1, 1, 3, 3, 3, 3, 2, 2, 2, 2, 3, 1, 3, 2, 3, 3, 3, 3,\n",
              "       1, 1, 1, 1, 3, 3, 3, 3, 0, 0, 0, 0, 3, 1, 3, 0, 3, 3, 3, 3, 1, 1,\n",
              "       1, 1, 3, 3, 3, 3, 0, 0, 0, 0, 3, 1, 3, 0, 1, 1, 1, 1, 1, 1, 1, 1,\n",
              "       0, 0, 0, 0, 1, 1, 1, 1, 1, 1, 0, 1, 1, 1, 1, 1, 1, 1, 1, 1, 1, 1,\n",
              "       1, 1, 1, 1, 1, 1, 1, 1, 1, 1, 1, 1, 1, 1, 1, 1, 1, 1, 1, 1, 1, 1,\n",
              "       1, 1, 1, 1, 1, 1, 1, 1, 1, 1, 1, 1, 1, 1, 1, 1, 1, 1, 1, 1, 0, 0,\n",
              "       0, 0, 1, 1, 1, 0, 1, 1, 1, 1, 1, 1, 1, 1, 1, 1, 1, 1, 0, 0, 0, 0,\n",
              "       1, 1, 1, 0, 1, 1, 1, 1, 1, 1, 1, 1, 4, 4, 4, 4, 1, 1, 1, 1, 1, 1,\n",
              "       5, 1, 1, 1, 1, 1, 1, 1, 1, 1, 1, 1, 1, 1, 1, 1, 1, 1, 1, 1, 1, 1,\n",
              "       1, 1, 1, 1, 1, 1, 1, 1, 1, 1, 1, 1, 1, 1, 1, 1, 1, 1, 1, 1, 1, 1,\n",
              "       1, 1, 1, 1, 1, 1, 1, 1, 1, 1, 4, 4, 4, 4, 1, 1, 1, 5, 1, 1, 1, 1,\n",
              "       1, 1, 1, 1, 1, 1, 1, 1, 3, 3, 3, 3, 1, 1, 1, 3], dtype=int32)"
            ]
          },
          "metadata": {},
          "execution_count": 302
        }
      ],
      "source": [
        "optimal_policy"
      ]
    },
    {
      "cell_type": "code",
      "execution_count": 294,
      "metadata": {
        "colab": {
          "base_uri": "https://localhost:8080/"
        },
        "id": "v7ZgCBn6PaBv",
        "outputId": "94257e21-2888-4226-f7c7-dbbde1fc6259"
      },
      "outputs": [
        {
          "output_type": "stream",
          "name": "stdout",
          "text": [
            "+---------+\n",
            "|\u001b[35m\u001b[34;1m\u001b[43mR\u001b[0m\u001b[0m\u001b[0m: | : :G|\n",
            "| : | : : |\n",
            "| : : : : |\n",
            "| | : | : |\n",
            "|Y| : |B: |\n",
            "+---------+\n",
            "  (Dropoff)\n",
            "\n"
          ]
        },
        {
          "output_type": "execute_result",
          "data": {
            "text/plain": [
              "(11, 10)"
            ]
          },
          "metadata": {},
          "execution_count": 294
        }
      ],
      "source": [
        "play(env, optimal_policy, True)"
      ]
    },
    {
      "cell_type": "code",
      "execution_count": 303,
      "metadata": {
        "id": "Z9_Osxd1P_Mk",
        "colab": {
          "base_uri": "https://localhost:8080/"
        },
        "outputId": "6da9e107-aea9-4250-daa2-11b7908305bd"
      },
      "outputs": [
        {
          "output_type": "stream",
          "name": "stdout",
          "text": [
            "Number of successes: 1000/1000\n",
            "Average number of steps: 13.039\n"
          ]
        }
      ],
      "source": [
        "play_multiple_times(env, optimal_policy, 1000)"
      ]
    },
    {
      "cell_type": "code",
      "source": [
        "# Kiểm tra policy của 2 thuật toán có giống nhau không\n",
        "if (np.array_equal(optimal_policy_1, optimal_policy)):\n",
        "  print(\"Equal\")\n",
        "else: print(\"Not Equal\")"
      ],
      "metadata": {
        "colab": {
          "base_uri": "https://localhost:8080/"
        },
        "id": "zuHRNTz0C_vX",
        "outputId": "62ea236e-d6b1-4368-c891-4869f736e316"
      },
      "execution_count": 307,
      "outputs": [
        {
          "output_type": "stream",
          "name": "stdout",
          "text": [
            "Equal\n"
          ]
        }
      ]
    },
    {
      "cell_type": "markdown",
      "source": [
        "###Thống kê thời gian trong 5 lần chạy\n",
        "| Lần | Value Iteration | Policy Iteration |\n",
        "| --- | --- | --- |\n",
        "| 1 | 5.67 | 15.27|\n",
        "| 2 | 6.22 | 13.12|\n",
        "| 3 | 6.2 | 15.29|\n",
        "| 4 | 6.2 | 15.36|\n",
        "| 5 | 6.45 | 18.05 |"
      ],
      "metadata": {
        "id": "BIgfLXkn0XB1"
      }
    },
    {
      "cell_type": "markdown",
      "metadata": {
        "id": "u6yBOqpRiPmO"
      },
      "source": [
        "##Nhận xét\n",
        "| Value Iteration | Policy Iteration\n",
        "| ---------- | ---------- |\n",
        "| Cập nhật cả giá trị và ngầm định cập nhật cả kế hoạch  | Chúng ta cập nhật giá trị của hành động theo kế hoạch <br> (nhanh vì chỉ xét 1 hành động) |\n",
        "| Chúng ta không tìm kế hoạch, nhưng mỗi lấy giá trị lớn nhất <br> trong các hành động là ngầm tìm một kế hoạch | Sau đó tìm một kế hoạch mới dựa trên giá trị đã tính <br> (Giai đoạn này chậm như Value Iteration)\n",
        "\n",
        "*   **Về tốc độ** : Value Iteration cho ra kết quả nhanh hơn bởi vì nó yêu cầu ít vòng lặp hơn Policy Iteration. Value Iteration kết hợp tính toán và cải thiện trong mỗi bước đi, trong khi đó Policy Iteration tính toán và cải thiệt cả một kế hoạch trong mỗi vòng lặp.\n",
        "*  **Hiệu suất tính toán** : Policy Iteration yêu cầu tính toán nhiều hơn vì có nhiều vòng lặp.\n",
        "* **Chất lượng kế hoạch** : Policy Iteration đảm bảo có một kế hoạch tối ưu hơn Value Iteration.Vì Policy Iteration tìm một chính sách tối ưu, trong khi đó Value Iteration tìm một chính sách tối ưu từ giá trị trạng thái.\n",
        "* Policy Iteration được ưu tiên khi cần tìm một giải pháp yêu cầu sự chính xác, và không bị giới hạn bộ nhớ hay thời gian. Value Iteration phù hợp với môi trường không yêu cầu độ chính xác cao và thời gian cho kết quả nhanh.\n",
        "\n",
        "\n",
        "\n",
        "\n"
      ]
    },
    {
      "cell_type": "markdown",
      "source": [
        "##Thuật toán tốt nhất\n",
        "Trong Frozen Lake các policy khi sử dụng 2 thuật toán đều giống nhau, trung bình thời gian để tìm ra giải pháp tối ưu Value Iteration chậm hơn Policy Iteration trong Frozen Lake 4x4 (không đáng kế), trong khi Value Iteration nhanh hơn Policy Iteration trong Frozen Lake 8x8. Có thể suy ra là Policy Iteration cho kết quả nhanh hơn với những bản đồ nhỏ <br>\n",
        "Trong Taxi thì kế hoạch của 2 thuật toán cho ra đều như nhau và Value Iteration cho ra kết quả nhanh hơn Policy Iteration. <br>\n",
        "Frozen Lake có yêu tố ngẫu nhiên, xác suất của mỗi hành động là 1/3. Trong đó, Taxi không có yếu tố ngẫu nhiên nên các kế hoạch của hai thuật toán, khi chạy nhiều lần đều đạt đích.\n",
        "Vậy nên nếu xét chiến thuật nào tốt hơn thì ta ưu tiên về thời gian chạy, thì **Value Iteration là tốt hơn** Policy Iteration cho cả 3 toy game.\n"
      ],
      "metadata": {
        "id": "Z6HNGFECZK3f"
      }
    }
  ],
  "metadata": {
    "colab": {
      "provenance": []
    },
    "kernelspec": {
      "display_name": "Python 3",
      "name": "python3"
    },
    "language_info": {
      "name": "python"
    }
  },
  "nbformat": 4,
  "nbformat_minor": 0
}